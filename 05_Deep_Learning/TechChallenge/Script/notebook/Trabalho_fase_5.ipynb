{
  "cells": [
    {
      "cell_type": "code",
      "execution_count": 118,
      "metadata": {
        "colab": {
          "base_uri": "https://localhost:8080/",
          "height": 356
        },
        "id": "7STr6e6C0kSj",
        "outputId": "9fa62dad-29cd-49c4-825b-2a698e98e3b2"
      },
      "outputs": [],
      "source": [
        "import pandas as pd\n",
        "import numpy as np\n",
        "import matplotlib.pyplot as plt\n",
        "import matplotlib.ticker as ticker\n",
        "\n",
        "csv_url = r'C:\\Users\\EugênioLenineGueiros\\Documents\\PosTechDataScience_Fiap\\05_Deep_Learning\\TechChallenge\\Script\\notebook\\df.csv'\n",
        "df = pd.read_csv(csv_url, delimiter=',')\n",
        "pd.set_option('display.max_columns', None)"
      ]
    },
    {
      "cell_type": "code",
      "execution_count": 111,
      "metadata": {
        "id": "uoFe4HEl1gnJ"
      },
      "outputs": [],
      "source": [
        "import pandas as pd\n",
        "import numpy as np\n",
        "import matplotlib.pyplot as plt\n",
        "import matplotlib.ticker as ticker"
      ]
    },
    {
      "cell_type": "code",
      "execution_count": 112,
      "metadata": {
        "id": "nwfEcjDyCevx"
      },
      "outputs": [],
      "source": [
        "#Ajustando configurações para permitir a visualização de todas as colunas\n",
        "\n",
        "pd.set_option('display.max_columns', None)\n"
      ]
    },
    {
      "cell_type": "code",
      "execution_count": 113,
      "metadata": {
        "id": "UQLr9_qr1Dd8"
      },
      "outputs": [],
      "source": [
        "def filter_columns(df, filters: list): # adiciono no array o padrão que existe nas colunas e que não quero que tenha na saída final\n",
        "    selected_columns = [True] * len(df.columns)  # Inicializa todas as colunas como True\n",
        "    for index, column in enumerate(df.columns):\n",
        "        if any(filter in column for filter in filters): selected_columns[index] = False\n",
        "    return df[df.columns[selected_columns]]"
      ]
    },
    {
      "cell_type": "code",
      "execution_count": 114,
      "metadata": {
        "id": "5ffOY5bPFNKd"
      },
      "outputs": [],
      "source": [
        "def cleaning_dataset(df):\n",
        "  _df = df.dropna(subset=df.columns.difference(['NOME']), how='all') # executa o dropna para todas as colunas sem visualizar a coluna NOME\n",
        "  _df = _df[~_df.isna().all(axis=1)] # remove linhas com apenas NaN, se tiver algum dado na linha não remove\n",
        "  return _df"
      ]
    },
    {
      "cell_type": "code",
      "execution_count": 115,
      "metadata": {
        "id": "tz3kavzkFNLp"
      },
      "outputs": [],
      "source": [
        "def plot_exact_counter(size, x, y, df) -> None:\n",
        "  import matplotlib.pyplot as plt\n",
        "  import seaborn as sns\n",
        "  import pandas as pd\n",
        "\n",
        "  plt.figure(figsize=size)\n",
        "  barplot = plt.bar(y.index, y.values)\n",
        "  plt.xlabel(x)\n",
        "  plt.ylabel('Count')\n",
        "\n",
        "  for index, value in enumerate(y.values):\n",
        "        plt.text(index, value, round(value, 2), color='black', ha=\"center\")\n",
        "\n",
        "  plt.show()"
      ]
    },
    {
      "cell_type": "code",
      "execution_count": 119,
      "metadata": {
        "colab": {
          "base_uri": "https://localhost:8080/",
          "height": 399
        },
        "id": "wlALtC6SFNNP",
        "outputId": "210227be-5619-42e3-ed15-ff3f399cb683"
      },
      "outputs": [
        {
          "data": {
            "text/html": [
              "<div>\n",
              "<style scoped>\n",
              "    .dataframe tbody tr th:only-of-type {\n",
              "        vertical-align: middle;\n",
              "    }\n",
              "\n",
              "    .dataframe tbody tr th {\n",
              "        vertical-align: top;\n",
              "    }\n",
              "\n",
              "    .dataframe thead th {\n",
              "        text-align: right;\n",
              "    }\n",
              "</style>\n",
              "<table border=\"1\" class=\"dataframe\">\n",
              "  <thead>\n",
              "    <tr style=\"text-align: right;\">\n",
              "      <th></th>\n",
              "      <th>NOME</th>\n",
              "      <th>FASE_2022</th>\n",
              "      <th>TURMA_2022</th>\n",
              "      <th>ANO_INGRESSO_2022</th>\n",
              "      <th>BOLSISTA_2022</th>\n",
              "      <th>INDE_2022</th>\n",
              "      <th>CG_2022</th>\n",
              "      <th>CF_2022</th>\n",
              "      <th>CT_2022</th>\n",
              "      <th>PEDRA_2022</th>\n",
              "      <th>DESTAQUE_IEG_2022</th>\n",
              "      <th>DESTAQUE_IDA_2022</th>\n",
              "      <th>DESTAQUE_IPV_2022</th>\n",
              "      <th>IAA_2022</th>\n",
              "      <th>IEG_2022</th>\n",
              "      <th>IPS_2022</th>\n",
              "      <th>IDA_2022</th>\n",
              "      <th>NOTA_PORT_2022</th>\n",
              "      <th>NOTA_MAT_2022</th>\n",
              "      <th>NOTA_ING_2022</th>\n",
              "      <th>QTD_AVAL_2022</th>\n",
              "      <th>IPP_2022</th>\n",
              "      <th>REC_AVA_1_2022</th>\n",
              "      <th>REC_AVA_2_2022</th>\n",
              "      <th>REC_AVA_3_2022</th>\n",
              "      <th>REC_AVA_4_2022</th>\n",
              "      <th>INDICADO_BOLSA_2022</th>\n",
              "      <th>PONTO_VIRADA_2022</th>\n",
              "      <th>IPV_2022</th>\n",
              "      <th>IAN_2022</th>\n",
              "      <th>NIVEL_IDEAL_2022</th>\n",
              "    </tr>\n",
              "  </thead>\n",
              "  <tbody>\n",
              "    <tr>\n",
              "      <th>258</th>\n",
              "      <td>ALUNO-1097</td>\n",
              "      <td>4.0</td>\n",
              "      <td>A</td>\n",
              "      <td>2017.0</td>\n",
              "      <td>Sim</td>\n",
              "      <td>8.149930</td>\n",
              "      <td>100.0</td>\n",
              "      <td>10.0</td>\n",
              "      <td>3.0</td>\n",
              "      <td>Topázio</td>\n",
              "      <td>Destaque: A sua boa entrega das lições de casa.</td>\n",
              "      <td>Melhorar: Empenhar-se mais nas aulas e avaliaç...</td>\n",
              "      <td>Destaque: A sua boa integração aos Princípios ...</td>\n",
              "      <td>9.16668</td>\n",
              "      <td>9.691651</td>\n",
              "      <td>5.625</td>\n",
              "      <td>6.677778</td>\n",
              "      <td>8.333333</td>\n",
              "      <td>5.666667</td>\n",
              "      <td>6.033333</td>\n",
              "      <td>4.0</td>\n",
              "      <td>7.96875</td>\n",
              "      <td>Promovido de Fase + Bolsa</td>\n",
              "      <td>Mantido na Fase atual</td>\n",
              "      <td>Mantido na Fase atual</td>\n",
              "      <td>Promovido de Fase + Bolsa</td>\n",
              "      <td>Não</td>\n",
              "      <td>Não</td>\n",
              "      <td>8.000005</td>\n",
              "      <td>10.0</td>\n",
              "      <td>Fase 4 (9º ano)</td>\n",
              "    </tr>\n",
              "    <tr>\n",
              "      <th>259</th>\n",
              "      <td>ALUNO-920</td>\n",
              "      <td>5.0</td>\n",
              "      <td>F</td>\n",
              "      <td>2018.0</td>\n",
              "      <td>Sim</td>\n",
              "      <td>7.039505</td>\n",
              "      <td>475.0</td>\n",
              "      <td>29.0</td>\n",
              "      <td>2.0</td>\n",
              "      <td>Ametista</td>\n",
              "      <td>Melhorar: Melhorar a sua entrega de lições de ...</td>\n",
              "      <td>Melhorar: Empenhar-se mais nas aulas e avaliaç...</td>\n",
              "      <td>Destaque: A sua boa integração aos Princípios ...</td>\n",
              "      <td>8.33334</td>\n",
              "      <td>6.612103</td>\n",
              "      <td>5.625</td>\n",
              "      <td>7.200000</td>\n",
              "      <td>8.666667</td>\n",
              "      <td>5.666667</td>\n",
              "      <td>7.266667</td>\n",
              "      <td>4.0</td>\n",
              "      <td>7.81250</td>\n",
              "      <td>Promovido de Fase + Bolsa</td>\n",
              "      <td>Mantido na Fase atual</td>\n",
              "      <td>Mantido na Fase + Bolsa</td>\n",
              "      <td>Promovido de Fase</td>\n",
              "      <td>Não</td>\n",
              "      <td>Não</td>\n",
              "      <td>8.000000</td>\n",
              "      <td>5.0</td>\n",
              "      <td>Fase 7 (3º EM)</td>\n",
              "    </tr>\n",
              "    <tr>\n",
              "      <th>260</th>\n",
              "      <td>ALUNO-395</td>\n",
              "      <td>3.0</td>\n",
              "      <td>L</td>\n",
              "      <td>2020.0</td>\n",
              "      <td>Não</td>\n",
              "      <td>5.062781</td>\n",
              "      <td>817.0</td>\n",
              "      <td>126.0</td>\n",
              "      <td>5.0</td>\n",
              "      <td>Quartzo</td>\n",
              "      <td>Melhorar: Melhorar a sua entrega de lições de ...</td>\n",
              "      <td>Melhorar: Empenhar-se mais nas aulas e avaliaç...</td>\n",
              "      <td>Melhorar: Integrar-se mais aos Princípios Pass...</td>\n",
              "      <td>9.16668</td>\n",
              "      <td>4.077797</td>\n",
              "      <td>7.500</td>\n",
              "      <td>2.777778</td>\n",
              "      <td>4.000000</td>\n",
              "      <td>3.166667</td>\n",
              "      <td>1.166667</td>\n",
              "      <td>4.0</td>\n",
              "      <td>6.25000</td>\n",
              "      <td>Promovido de Fase</td>\n",
              "      <td>Mantido na Fase atual</td>\n",
              "      <td>Promovido de Fase</td>\n",
              "      <td>Alocado em Fase anterior</td>\n",
              "      <td>Não</td>\n",
              "      <td>Não</td>\n",
              "      <td>5.749993</td>\n",
              "      <td>2.5</td>\n",
              "      <td>Fase 6 (2º EM)</td>\n",
              "    </tr>\n",
              "    <tr>\n",
              "      <th>261</th>\n",
              "      <td>ALUNO-311</td>\n",
              "      <td>0.0</td>\n",
              "      <td>A</td>\n",
              "      <td>2021.0</td>\n",
              "      <td>Não</td>\n",
              "      <td>7.479539</td>\n",
              "      <td>323.0</td>\n",
              "      <td>96.0</td>\n",
              "      <td>6.0</td>\n",
              "      <td>Ametista</td>\n",
              "      <td>Destaque: A sua boa entrega das lições de casa.</td>\n",
              "      <td>Destaque: As suas boas notas na Passos Mágicos.</td>\n",
              "      <td>Melhorar: Integrar-se mais aos Princípios Pass...</td>\n",
              "      <td>8.50002</td>\n",
              "      <td>8.518519</td>\n",
              "      <td>8.125</td>\n",
              "      <td>8.816667</td>\n",
              "      <td>8.500000</td>\n",
              "      <td>9.133333</td>\n",
              "      <td>NaN</td>\n",
              "      <td>2.0</td>\n",
              "      <td>5.00000</td>\n",
              "      <td>Mantido na Fase atual</td>\n",
              "      <td>Mantido na Fase atual</td>\n",
              "      <td>NaN</td>\n",
              "      <td>NaN</td>\n",
              "      <td>Não</td>\n",
              "      <td>Não</td>\n",
              "      <td>6.750000</td>\n",
              "      <td>5.0</td>\n",
              "      <td>Fase 1 (4º ano)</td>\n",
              "    </tr>\n",
              "    <tr>\n",
              "      <th>262</th>\n",
              "      <td>ALUNO-770</td>\n",
              "      <td>3.0</td>\n",
              "      <td>C</td>\n",
              "      <td>2021.0</td>\n",
              "      <td>Não</td>\n",
              "      <td>8.464935</td>\n",
              "      <td>39.0</td>\n",
              "      <td>10.0</td>\n",
              "      <td>1.0</td>\n",
              "      <td>Topázio</td>\n",
              "      <td>Destaque: A sua boa entrega das lições de casa.</td>\n",
              "      <td>Destaque: As suas boas notas na Passos Mágicos.</td>\n",
              "      <td>Destaque: A sua boa integração aos Princípios ...</td>\n",
              "      <td>9.16668</td>\n",
              "      <td>8.836817</td>\n",
              "      <td>7.500</td>\n",
              "      <td>7.555556</td>\n",
              "      <td>6.666667</td>\n",
              "      <td>7.500000</td>\n",
              "      <td>8.500000</td>\n",
              "      <td>4.0</td>\n",
              "      <td>8.28125</td>\n",
              "      <td>Promovido de Fase + Bolsa</td>\n",
              "      <td>Promovido de Fase + Bolsa</td>\n",
              "      <td>Promovido de Fase</td>\n",
              "      <td>Promovido de Fase + Bolsa</td>\n",
              "      <td>Sim</td>\n",
              "      <td>Sim</td>\n",
              "      <td>8.458337</td>\n",
              "      <td>10.0</td>\n",
              "      <td>Fase 3 (7º e 8º ano)</td>\n",
              "    </tr>\n",
              "  </tbody>\n",
              "</table>\n",
              "</div>"
            ],
            "text/plain": [
              "           NOME  FASE_2022 TURMA_2022  ANO_INGRESSO_2022 BOLSISTA_2022  \\\n",
              "258  ALUNO-1097        4.0          A             2017.0           Sim   \n",
              "259   ALUNO-920        5.0          F             2018.0           Sim   \n",
              "260   ALUNO-395        3.0          L             2020.0           Não   \n",
              "261   ALUNO-311        0.0          A             2021.0           Não   \n",
              "262   ALUNO-770        3.0          C             2021.0           Não   \n",
              "\n",
              "     INDE_2022  CG_2022  CF_2022  CT_2022 PEDRA_2022  \\\n",
              "258   8.149930    100.0     10.0      3.0    Topázio   \n",
              "259   7.039505    475.0     29.0      2.0   Ametista   \n",
              "260   5.062781    817.0    126.0      5.0    Quartzo   \n",
              "261   7.479539    323.0     96.0      6.0   Ametista   \n",
              "262   8.464935     39.0     10.0      1.0    Topázio   \n",
              "\n",
              "                                     DESTAQUE_IEG_2022  \\\n",
              "258    Destaque: A sua boa entrega das lições de casa.   \n",
              "259  Melhorar: Melhorar a sua entrega de lições de ...   \n",
              "260  Melhorar: Melhorar a sua entrega de lições de ...   \n",
              "261    Destaque: A sua boa entrega das lições de casa.   \n",
              "262    Destaque: A sua boa entrega das lições de casa.   \n",
              "\n",
              "                                     DESTAQUE_IDA_2022  \\\n",
              "258  Melhorar: Empenhar-se mais nas aulas e avaliaç...   \n",
              "259  Melhorar: Empenhar-se mais nas aulas e avaliaç...   \n",
              "260  Melhorar: Empenhar-se mais nas aulas e avaliaç...   \n",
              "261    Destaque: As suas boas notas na Passos Mágicos.   \n",
              "262    Destaque: As suas boas notas na Passos Mágicos.   \n",
              "\n",
              "                                     DESTAQUE_IPV_2022  IAA_2022  IEG_2022  \\\n",
              "258  Destaque: A sua boa integração aos Princípios ...   9.16668  9.691651   \n",
              "259  Destaque: A sua boa integração aos Princípios ...   8.33334  6.612103   \n",
              "260  Melhorar: Integrar-se mais aos Princípios Pass...   9.16668  4.077797   \n",
              "261  Melhorar: Integrar-se mais aos Princípios Pass...   8.50002  8.518519   \n",
              "262  Destaque: A sua boa integração aos Princípios ...   9.16668  8.836817   \n",
              "\n",
              "     IPS_2022  IDA_2022  NOTA_PORT_2022  NOTA_MAT_2022  NOTA_ING_2022  \\\n",
              "258     5.625  6.677778        8.333333       5.666667       6.033333   \n",
              "259     5.625  7.200000        8.666667       5.666667       7.266667   \n",
              "260     7.500  2.777778        4.000000       3.166667       1.166667   \n",
              "261     8.125  8.816667        8.500000       9.133333            NaN   \n",
              "262     7.500  7.555556        6.666667       7.500000       8.500000   \n",
              "\n",
              "     QTD_AVAL_2022  IPP_2022             REC_AVA_1_2022  \\\n",
              "258            4.0   7.96875  Promovido de Fase + Bolsa   \n",
              "259            4.0   7.81250  Promovido de Fase + Bolsa   \n",
              "260            4.0   6.25000          Promovido de Fase   \n",
              "261            2.0   5.00000      Mantido na Fase atual   \n",
              "262            4.0   8.28125  Promovido de Fase + Bolsa   \n",
              "\n",
              "                REC_AVA_2_2022           REC_AVA_3_2022  \\\n",
              "258      Mantido na Fase atual    Mantido na Fase atual   \n",
              "259      Mantido na Fase atual  Mantido na Fase + Bolsa   \n",
              "260      Mantido na Fase atual        Promovido de Fase   \n",
              "261      Mantido na Fase atual                      NaN   \n",
              "262  Promovido de Fase + Bolsa        Promovido de Fase   \n",
              "\n",
              "                REC_AVA_4_2022 INDICADO_BOLSA_2022 PONTO_VIRADA_2022  \\\n",
              "258  Promovido de Fase + Bolsa                 Não               Não   \n",
              "259          Promovido de Fase                 Não               Não   \n",
              "260   Alocado em Fase anterior                 Não               Não   \n",
              "261                        NaN                 Não               Não   \n",
              "262  Promovido de Fase + Bolsa                 Sim               Sim   \n",
              "\n",
              "     IPV_2022  IAN_2022      NIVEL_IDEAL_2022  \n",
              "258  8.000005      10.0       Fase 4 (9º ano)  \n",
              "259  8.000000       5.0        Fase 7 (3º EM)  \n",
              "260  5.749993       2.5        Fase 6 (2º EM)  \n",
              "261  6.750000       5.0       Fase 1 (4º ano)  \n",
              "262  8.458337      10.0  Fase 3 (7º e 8º ano)  "
            ]
          },
          "execution_count": 119,
          "metadata": {},
          "output_type": "execute_result"
        }
      ],
      "source": [
        "passos_magicos_22 = filter_columns(df, ['2020', '2021'])\n",
        "df_22 = filter_columns(df, ['2020', '2021'])\n",
        "passos_magicos_22 = cleaning_dataset(passos_magicos_22)\n",
        "passos_magicos_22.head()"
      ]
    },
    {
      "cell_type": "code",
      "execution_count": 120,
      "metadata": {
        "colab": {
          "base_uri": "https://localhost:8080/"
        },
        "id": "RaA59YpHFNP8",
        "outputId": "c75d97a0-8b49-474c-9719-4c39e165c7eb"
      },
      "outputs": [
        {
          "data": {
            "text/plain": [
              "Index(['NOME', 'FASE_2022', 'TURMA_2022', 'ANO_INGRESSO_2022', 'BOLSISTA_2022',\n",
              "       'INDE_2022', 'CG_2022', 'CF_2022', 'CT_2022', 'PEDRA_2022',\n",
              "       'DESTAQUE_IEG_2022', 'DESTAQUE_IDA_2022', 'DESTAQUE_IPV_2022',\n",
              "       'IAA_2022', 'IEG_2022', 'IPS_2022', 'IDA_2022', 'NOTA_PORT_2022',\n",
              "       'NOTA_MAT_2022', 'NOTA_ING_2022', 'QTD_AVAL_2022', 'IPP_2022',\n",
              "       'REC_AVA_1_2022', 'REC_AVA_2_2022', 'REC_AVA_3_2022', 'REC_AVA_4_2022',\n",
              "       'INDICADO_BOLSA_2022', 'PONTO_VIRADA_2022', 'IPV_2022', 'IAN_2022',\n",
              "       'NIVEL_IDEAL_2022'],\n",
              "      dtype='object')"
            ]
          },
          "execution_count": 120,
          "metadata": {},
          "output_type": "execute_result"
        }
      ],
      "source": [
        "passos_magicos_22.columns"
      ]
    },
    {
      "cell_type": "code",
      "execution_count": 121,
      "metadata": {
        "colab": {
          "base_uri": "https://localhost:8080/"
        },
        "id": "10cBNGUAFNX9",
        "outputId": "2814c41d-1b9a-4359-a797-07766571680a"
      },
      "outputs": [
        {
          "name": "stdout",
          "output_type": "stream",
          "text": [
            "<class 'pandas.core.frame.DataFrame'>\n",
            "Index: 862 entries, 258 to 1348\n",
            "Data columns (total 31 columns):\n",
            " #   Column               Non-Null Count  Dtype  \n",
            "---  ------               --------------  -----  \n",
            " 0   NOME                 862 non-null    object \n",
            " 1   FASE_2022            862 non-null    float64\n",
            " 2   TURMA_2022           862 non-null    object \n",
            " 3   ANO_INGRESSO_2022    862 non-null    float64\n",
            " 4   BOLSISTA_2022        862 non-null    object \n",
            " 5   INDE_2022            862 non-null    float64\n",
            " 6   CG_2022              862 non-null    float64\n",
            " 7   CF_2022              862 non-null    float64\n",
            " 8   CT_2022              862 non-null    float64\n",
            " 9   PEDRA_2022           862 non-null    object \n",
            " 10  DESTAQUE_IEG_2022    862 non-null    object \n",
            " 11  DESTAQUE_IDA_2022    862 non-null    object \n",
            " 12  DESTAQUE_IPV_2022    862 non-null    object \n",
            " 13  IAA_2022             862 non-null    float64\n",
            " 14  IEG_2022             862 non-null    float64\n",
            " 15  IPS_2022             862 non-null    float64\n",
            " 16  IDA_2022             862 non-null    float64\n",
            " 17  NOTA_PORT_2022       860 non-null    float64\n",
            " 18  NOTA_MAT_2022        860 non-null    float64\n",
            " 19  NOTA_ING_2022        285 non-null    float64\n",
            " 20  QTD_AVAL_2022        862 non-null    float64\n",
            " 21  IPP_2022             862 non-null    float64\n",
            " 22  REC_AVA_1_2022       862 non-null    object \n",
            " 23  REC_AVA_2_2022       862 non-null    object \n",
            " 24  REC_AVA_3_2022       626 non-null    object \n",
            " 25  REC_AVA_4_2022       285 non-null    object \n",
            " 26  INDICADO_BOLSA_2022  862 non-null    object \n",
            " 27  PONTO_VIRADA_2022    862 non-null    object \n",
            " 28  IPV_2022             862 non-null    float64\n",
            " 29  IAN_2022             862 non-null    float64\n",
            " 30  NIVEL_IDEAL_2022     862 non-null    object \n",
            "dtypes: float64(17), object(14)\n",
            "memory usage: 215.5+ KB\n"
          ]
        }
      ],
      "source": [
        "passos_magicos_22.info()"
      ]
    },
    {
      "cell_type": "code",
      "execution_count": 122,
      "metadata": {
        "id": "bQqB5IxiFNih"
      },
      "outputs": [
        {
          "name": "stderr",
          "output_type": "stream",
          "text": [
            "C:\\Users\\EugênioLenineGueiros\\AppData\\Local\\Temp\\ipykernel_33276\\1841872301.py:3: FutureWarning: Downcasting behavior in `replace` is deprecated and will be removed in a future version. To retain the old behavior, explicitly call `result.infer_objects(copy=False)`. To opt-in to the future behavior, set `pd.set_option('future.no_silent_downcasting', True)`\n",
            "  passos_magicos_22['BOLSISTA_2022'] = passos_magicos_22['BOLSISTA_2022'].replace(['Sim', 'Não'], [1,0])\n",
            "C:\\Users\\EugênioLenineGueiros\\AppData\\Local\\Temp\\ipykernel_33276\\1841872301.py:4: FutureWarning: Downcasting behavior in `replace` is deprecated and will be removed in a future version. To retain the old behavior, explicitly call `result.infer_objects(copy=False)`. To opt-in to the future behavior, set `pd.set_option('future.no_silent_downcasting', True)`\n",
            "  passos_magicos_22['INDICADO_BOLSA_2022'] = passos_magicos_22['INDICADO_BOLSA_2022'].replace(['Sim', 'Não'], [1,0])\n",
            "C:\\Users\\EugênioLenineGueiros\\AppData\\Local\\Temp\\ipykernel_33276\\1841872301.py:5: FutureWarning: Downcasting behavior in `replace` is deprecated and will be removed in a future version. To retain the old behavior, explicitly call `result.infer_objects(copy=False)`. To opt-in to the future behavior, set `pd.set_option('future.no_silent_downcasting', True)`\n",
            "  passos_magicos_22['PONTO_VIRADA_2022'] = passos_magicos_22['PONTO_VIRADA_2022'].replace(['Sim', 'Não'], [1,0])\n"
          ]
        }
      ],
      "source": [
        "#Ajustando colunas (transformando em dummy)\n",
        "\n",
        "passos_magicos_22['BOLSISTA_2022'] = passos_magicos_22['BOLSISTA_2022'].replace(['Sim', 'Não'], [1,0])\n",
        "passos_magicos_22['INDICADO_BOLSA_2022'] = passos_magicos_22['INDICADO_BOLSA_2022'].replace(['Sim', 'Não'], [1,0])\n",
        "passos_magicos_22['PONTO_VIRADA_2022'] = passos_magicos_22['PONTO_VIRADA_2022'].replace(['Sim', 'Não'], [1,0])\n"
      ]
    },
    {
      "cell_type": "code",
      "execution_count": 123,
      "metadata": {
        "colab": {
          "base_uri": "https://localhost:8080/",
          "height": 399
        },
        "id": "AA6u8dGgB09Y",
        "outputId": "2ba33352-558b-4133-fc3a-b88722fc07f1"
      },
      "outputs": [
        {
          "data": {
            "text/html": [
              "<div>\n",
              "<style scoped>\n",
              "    .dataframe tbody tr th:only-of-type {\n",
              "        vertical-align: middle;\n",
              "    }\n",
              "\n",
              "    .dataframe tbody tr th {\n",
              "        vertical-align: top;\n",
              "    }\n",
              "\n",
              "    .dataframe thead th {\n",
              "        text-align: right;\n",
              "    }\n",
              "</style>\n",
              "<table border=\"1\" class=\"dataframe\">\n",
              "  <thead>\n",
              "    <tr style=\"text-align: right;\">\n",
              "      <th></th>\n",
              "      <th>NOME</th>\n",
              "      <th>FASE_2022</th>\n",
              "      <th>TURMA_2022</th>\n",
              "      <th>ANO_INGRESSO_2022</th>\n",
              "      <th>BOLSISTA_2022</th>\n",
              "      <th>INDE_2022</th>\n",
              "      <th>CG_2022</th>\n",
              "      <th>CF_2022</th>\n",
              "      <th>CT_2022</th>\n",
              "      <th>PEDRA_2022</th>\n",
              "      <th>DESTAQUE_IEG_2022</th>\n",
              "      <th>DESTAQUE_IDA_2022</th>\n",
              "      <th>DESTAQUE_IPV_2022</th>\n",
              "      <th>IAA_2022</th>\n",
              "      <th>IEG_2022</th>\n",
              "      <th>IPS_2022</th>\n",
              "      <th>IDA_2022</th>\n",
              "      <th>NOTA_PORT_2022</th>\n",
              "      <th>NOTA_MAT_2022</th>\n",
              "      <th>NOTA_ING_2022</th>\n",
              "      <th>QTD_AVAL_2022</th>\n",
              "      <th>IPP_2022</th>\n",
              "      <th>REC_AVA_1_2022</th>\n",
              "      <th>REC_AVA_2_2022</th>\n",
              "      <th>REC_AVA_3_2022</th>\n",
              "      <th>REC_AVA_4_2022</th>\n",
              "      <th>INDICADO_BOLSA_2022</th>\n",
              "      <th>PONTO_VIRADA_2022</th>\n",
              "      <th>IPV_2022</th>\n",
              "      <th>IAN_2022</th>\n",
              "      <th>NIVEL_IDEAL_2022</th>\n",
              "    </tr>\n",
              "  </thead>\n",
              "  <tbody>\n",
              "    <tr>\n",
              "      <th>258</th>\n",
              "      <td>ALUNO-1097</td>\n",
              "      <td>4.0</td>\n",
              "      <td>A</td>\n",
              "      <td>2017.0</td>\n",
              "      <td>1</td>\n",
              "      <td>8.149930</td>\n",
              "      <td>100.0</td>\n",
              "      <td>10.0</td>\n",
              "      <td>3.0</td>\n",
              "      <td>Topázio</td>\n",
              "      <td>Destaque: A sua boa entrega das lições de casa.</td>\n",
              "      <td>Melhorar: Empenhar-se mais nas aulas e avaliaç...</td>\n",
              "      <td>Destaque: A sua boa integração aos Princípios ...</td>\n",
              "      <td>9.16668</td>\n",
              "      <td>9.691651</td>\n",
              "      <td>5.625</td>\n",
              "      <td>6.677778</td>\n",
              "      <td>8.333333</td>\n",
              "      <td>5.666667</td>\n",
              "      <td>6.033333</td>\n",
              "      <td>4.0</td>\n",
              "      <td>7.96875</td>\n",
              "      <td>Promovido de Fase + Bolsa</td>\n",
              "      <td>Mantido na Fase atual</td>\n",
              "      <td>Mantido na Fase atual</td>\n",
              "      <td>Promovido de Fase + Bolsa</td>\n",
              "      <td>0</td>\n",
              "      <td>0</td>\n",
              "      <td>8.000005</td>\n",
              "      <td>10.0</td>\n",
              "      <td>Fase 4 (9º ano)</td>\n",
              "    </tr>\n",
              "    <tr>\n",
              "      <th>259</th>\n",
              "      <td>ALUNO-920</td>\n",
              "      <td>5.0</td>\n",
              "      <td>F</td>\n",
              "      <td>2018.0</td>\n",
              "      <td>1</td>\n",
              "      <td>7.039505</td>\n",
              "      <td>475.0</td>\n",
              "      <td>29.0</td>\n",
              "      <td>2.0</td>\n",
              "      <td>Ametista</td>\n",
              "      <td>Melhorar: Melhorar a sua entrega de lições de ...</td>\n",
              "      <td>Melhorar: Empenhar-se mais nas aulas e avaliaç...</td>\n",
              "      <td>Destaque: A sua boa integração aos Princípios ...</td>\n",
              "      <td>8.33334</td>\n",
              "      <td>6.612103</td>\n",
              "      <td>5.625</td>\n",
              "      <td>7.200000</td>\n",
              "      <td>8.666667</td>\n",
              "      <td>5.666667</td>\n",
              "      <td>7.266667</td>\n",
              "      <td>4.0</td>\n",
              "      <td>7.81250</td>\n",
              "      <td>Promovido de Fase + Bolsa</td>\n",
              "      <td>Mantido na Fase atual</td>\n",
              "      <td>Mantido na Fase + Bolsa</td>\n",
              "      <td>Promovido de Fase</td>\n",
              "      <td>0</td>\n",
              "      <td>0</td>\n",
              "      <td>8.000000</td>\n",
              "      <td>5.0</td>\n",
              "      <td>Fase 7 (3º EM)</td>\n",
              "    </tr>\n",
              "    <tr>\n",
              "      <th>260</th>\n",
              "      <td>ALUNO-395</td>\n",
              "      <td>3.0</td>\n",
              "      <td>L</td>\n",
              "      <td>2020.0</td>\n",
              "      <td>0</td>\n",
              "      <td>5.062781</td>\n",
              "      <td>817.0</td>\n",
              "      <td>126.0</td>\n",
              "      <td>5.0</td>\n",
              "      <td>Quartzo</td>\n",
              "      <td>Melhorar: Melhorar a sua entrega de lições de ...</td>\n",
              "      <td>Melhorar: Empenhar-se mais nas aulas e avaliaç...</td>\n",
              "      <td>Melhorar: Integrar-se mais aos Princípios Pass...</td>\n",
              "      <td>9.16668</td>\n",
              "      <td>4.077797</td>\n",
              "      <td>7.500</td>\n",
              "      <td>2.777778</td>\n",
              "      <td>4.000000</td>\n",
              "      <td>3.166667</td>\n",
              "      <td>1.166667</td>\n",
              "      <td>4.0</td>\n",
              "      <td>6.25000</td>\n",
              "      <td>Promovido de Fase</td>\n",
              "      <td>Mantido na Fase atual</td>\n",
              "      <td>Promovido de Fase</td>\n",
              "      <td>Alocado em Fase anterior</td>\n",
              "      <td>0</td>\n",
              "      <td>0</td>\n",
              "      <td>5.749993</td>\n",
              "      <td>2.5</td>\n",
              "      <td>Fase 6 (2º EM)</td>\n",
              "    </tr>\n",
              "    <tr>\n",
              "      <th>261</th>\n",
              "      <td>ALUNO-311</td>\n",
              "      <td>0.0</td>\n",
              "      <td>A</td>\n",
              "      <td>2021.0</td>\n",
              "      <td>0</td>\n",
              "      <td>7.479539</td>\n",
              "      <td>323.0</td>\n",
              "      <td>96.0</td>\n",
              "      <td>6.0</td>\n",
              "      <td>Ametista</td>\n",
              "      <td>Destaque: A sua boa entrega das lições de casa.</td>\n",
              "      <td>Destaque: As suas boas notas na Passos Mágicos.</td>\n",
              "      <td>Melhorar: Integrar-se mais aos Princípios Pass...</td>\n",
              "      <td>8.50002</td>\n",
              "      <td>8.518519</td>\n",
              "      <td>8.125</td>\n",
              "      <td>8.816667</td>\n",
              "      <td>8.500000</td>\n",
              "      <td>9.133333</td>\n",
              "      <td>NaN</td>\n",
              "      <td>2.0</td>\n",
              "      <td>5.00000</td>\n",
              "      <td>Mantido na Fase atual</td>\n",
              "      <td>Mantido na Fase atual</td>\n",
              "      <td>NaN</td>\n",
              "      <td>NaN</td>\n",
              "      <td>0</td>\n",
              "      <td>0</td>\n",
              "      <td>6.750000</td>\n",
              "      <td>5.0</td>\n",
              "      <td>Fase 1 (4º ano)</td>\n",
              "    </tr>\n",
              "    <tr>\n",
              "      <th>262</th>\n",
              "      <td>ALUNO-770</td>\n",
              "      <td>3.0</td>\n",
              "      <td>C</td>\n",
              "      <td>2021.0</td>\n",
              "      <td>0</td>\n",
              "      <td>8.464935</td>\n",
              "      <td>39.0</td>\n",
              "      <td>10.0</td>\n",
              "      <td>1.0</td>\n",
              "      <td>Topázio</td>\n",
              "      <td>Destaque: A sua boa entrega das lições de casa.</td>\n",
              "      <td>Destaque: As suas boas notas na Passos Mágicos.</td>\n",
              "      <td>Destaque: A sua boa integração aos Princípios ...</td>\n",
              "      <td>9.16668</td>\n",
              "      <td>8.836817</td>\n",
              "      <td>7.500</td>\n",
              "      <td>7.555556</td>\n",
              "      <td>6.666667</td>\n",
              "      <td>7.500000</td>\n",
              "      <td>8.500000</td>\n",
              "      <td>4.0</td>\n",
              "      <td>8.28125</td>\n",
              "      <td>Promovido de Fase + Bolsa</td>\n",
              "      <td>Promovido de Fase + Bolsa</td>\n",
              "      <td>Promovido de Fase</td>\n",
              "      <td>Promovido de Fase + Bolsa</td>\n",
              "      <td>1</td>\n",
              "      <td>1</td>\n",
              "      <td>8.458337</td>\n",
              "      <td>10.0</td>\n",
              "      <td>Fase 3 (7º e 8º ano)</td>\n",
              "    </tr>\n",
              "  </tbody>\n",
              "</table>\n",
              "</div>"
            ],
            "text/plain": [
              "           NOME  FASE_2022 TURMA_2022  ANO_INGRESSO_2022  BOLSISTA_2022  \\\n",
              "258  ALUNO-1097        4.0          A             2017.0              1   \n",
              "259   ALUNO-920        5.0          F             2018.0              1   \n",
              "260   ALUNO-395        3.0          L             2020.0              0   \n",
              "261   ALUNO-311        0.0          A             2021.0              0   \n",
              "262   ALUNO-770        3.0          C             2021.0              0   \n",
              "\n",
              "     INDE_2022  CG_2022  CF_2022  CT_2022 PEDRA_2022  \\\n",
              "258   8.149930    100.0     10.0      3.0    Topázio   \n",
              "259   7.039505    475.0     29.0      2.0   Ametista   \n",
              "260   5.062781    817.0    126.0      5.0    Quartzo   \n",
              "261   7.479539    323.0     96.0      6.0   Ametista   \n",
              "262   8.464935     39.0     10.0      1.0    Topázio   \n",
              "\n",
              "                                     DESTAQUE_IEG_2022  \\\n",
              "258    Destaque: A sua boa entrega das lições de casa.   \n",
              "259  Melhorar: Melhorar a sua entrega de lições de ...   \n",
              "260  Melhorar: Melhorar a sua entrega de lições de ...   \n",
              "261    Destaque: A sua boa entrega das lições de casa.   \n",
              "262    Destaque: A sua boa entrega das lições de casa.   \n",
              "\n",
              "                                     DESTAQUE_IDA_2022  \\\n",
              "258  Melhorar: Empenhar-se mais nas aulas e avaliaç...   \n",
              "259  Melhorar: Empenhar-se mais nas aulas e avaliaç...   \n",
              "260  Melhorar: Empenhar-se mais nas aulas e avaliaç...   \n",
              "261    Destaque: As suas boas notas na Passos Mágicos.   \n",
              "262    Destaque: As suas boas notas na Passos Mágicos.   \n",
              "\n",
              "                                     DESTAQUE_IPV_2022  IAA_2022  IEG_2022  \\\n",
              "258  Destaque: A sua boa integração aos Princípios ...   9.16668  9.691651   \n",
              "259  Destaque: A sua boa integração aos Princípios ...   8.33334  6.612103   \n",
              "260  Melhorar: Integrar-se mais aos Princípios Pass...   9.16668  4.077797   \n",
              "261  Melhorar: Integrar-se mais aos Princípios Pass...   8.50002  8.518519   \n",
              "262  Destaque: A sua boa integração aos Princípios ...   9.16668  8.836817   \n",
              "\n",
              "     IPS_2022  IDA_2022  NOTA_PORT_2022  NOTA_MAT_2022  NOTA_ING_2022  \\\n",
              "258     5.625  6.677778        8.333333       5.666667       6.033333   \n",
              "259     5.625  7.200000        8.666667       5.666667       7.266667   \n",
              "260     7.500  2.777778        4.000000       3.166667       1.166667   \n",
              "261     8.125  8.816667        8.500000       9.133333            NaN   \n",
              "262     7.500  7.555556        6.666667       7.500000       8.500000   \n",
              "\n",
              "     QTD_AVAL_2022  IPP_2022             REC_AVA_1_2022  \\\n",
              "258            4.0   7.96875  Promovido de Fase + Bolsa   \n",
              "259            4.0   7.81250  Promovido de Fase + Bolsa   \n",
              "260            4.0   6.25000          Promovido de Fase   \n",
              "261            2.0   5.00000      Mantido na Fase atual   \n",
              "262            4.0   8.28125  Promovido de Fase + Bolsa   \n",
              "\n",
              "                REC_AVA_2_2022           REC_AVA_3_2022  \\\n",
              "258      Mantido na Fase atual    Mantido na Fase atual   \n",
              "259      Mantido na Fase atual  Mantido na Fase + Bolsa   \n",
              "260      Mantido na Fase atual        Promovido de Fase   \n",
              "261      Mantido na Fase atual                      NaN   \n",
              "262  Promovido de Fase + Bolsa        Promovido de Fase   \n",
              "\n",
              "                REC_AVA_4_2022  INDICADO_BOLSA_2022  PONTO_VIRADA_2022  \\\n",
              "258  Promovido de Fase + Bolsa                    0                  0   \n",
              "259          Promovido de Fase                    0                  0   \n",
              "260   Alocado em Fase anterior                    0                  0   \n",
              "261                        NaN                    0                  0   \n",
              "262  Promovido de Fase + Bolsa                    1                  1   \n",
              "\n",
              "     IPV_2022  IAN_2022      NIVEL_IDEAL_2022  \n",
              "258  8.000005      10.0       Fase 4 (9º ano)  \n",
              "259  8.000000       5.0        Fase 7 (3º EM)  \n",
              "260  5.749993       2.5        Fase 6 (2º EM)  \n",
              "261  6.750000       5.0       Fase 1 (4º ano)  \n",
              "262  8.458337      10.0  Fase 3 (7º e 8º ano)  "
            ]
          },
          "execution_count": 123,
          "metadata": {},
          "output_type": "execute_result"
        }
      ],
      "source": [
        "passos_magicos_22.head()"
      ]
    },
    {
      "cell_type": "code",
      "execution_count": 124,
      "metadata": {
        "colab": {
          "base_uri": "https://localhost:8080/"
        },
        "id": "ksSILaflB067",
        "outputId": "ece0d6bf-de25-4297-c4bb-2137b9fd6579"
      },
      "outputs": [
        {
          "data": {
            "text/plain": [
              "array(['Topázio', 'Ametista', 'Quartzo', 'Ágata'], dtype=object)"
            ]
          },
          "execution_count": 124,
          "metadata": {},
          "output_type": "execute_result"
        }
      ],
      "source": [
        "passos_magicos_22['PEDRA_2022'].unique()"
      ]
    },
    {
      "cell_type": "code",
      "execution_count": 125,
      "metadata": {
        "colab": {
          "base_uri": "https://localhost:8080/"
        },
        "id": "VTS705BYB04X",
        "outputId": "050dc7fb-587a-4333-e916-2384510cb90a"
      },
      "outputs": [
        {
          "data": {
            "text/plain": [
              "array(['Destaque: A sua boa entrega das lições de casa.',\n",
              "       'Melhorar: Melhorar a sua entrega de lições de casa.'],\n",
              "      dtype=object)"
            ]
          },
          "execution_count": 125,
          "metadata": {},
          "output_type": "execute_result"
        }
      ],
      "source": [
        "passos_magicos_22['DESTAQUE_IEG_2022'].unique()"
      ]
    },
    {
      "cell_type": "code",
      "execution_count": 126,
      "metadata": {
        "colab": {
          "base_uri": "https://localhost:8080/"
        },
        "id": "2OIGbWW1B01z",
        "outputId": "ebe12496-c569-4e9e-e41f-c703c3579a38"
      },
      "outputs": [
        {
          "data": {
            "text/plain": [
              "array(['Melhorar: Empenhar-se mais nas aulas e avaliações.',\n",
              "       'Destaque: As suas boas notas na Passos Mágicos.'], dtype=object)"
            ]
          },
          "execution_count": 126,
          "metadata": {},
          "output_type": "execute_result"
        }
      ],
      "source": [
        "passos_magicos_22['DESTAQUE_IDA_2022'].unique()"
      ]
    },
    {
      "cell_type": "code",
      "execution_count": 127,
      "metadata": {
        "colab": {
          "base_uri": "https://localhost:8080/"
        },
        "id": "uLzFnmCkB0zL",
        "outputId": "d27eb9d1-7c7a-4db0-c58a-38422be13eac"
      },
      "outputs": [
        {
          "data": {
            "text/plain": [
              "array(['Destaque: A sua boa integração aos Princípios Passos Mágicos.',\n",
              "       'Melhorar: Integrar-se mais aos Princípios Passos Mágicos.'],\n",
              "      dtype=object)"
            ]
          },
          "execution_count": 127,
          "metadata": {},
          "output_type": "execute_result"
        }
      ],
      "source": [
        "passos_magicos_22['DESTAQUE_IPV_2022'].unique()"
      ]
    },
    {
      "cell_type": "code",
      "execution_count": 128,
      "metadata": {
        "colab": {
          "base_uri": "https://localhost:8080/"
        },
        "id": "B_J73AkyB0wr",
        "outputId": "66127828-9440-4231-c6b7-81d7b6d01b10"
      },
      "outputs": [
        {
          "data": {
            "text/plain": [
              "array(['Promovido de Fase + Bolsa', 'Promovido de Fase',\n",
              "       'Mantido na Fase atual', 'Mantido na Fase + Bolsa', 'Não avaliado',\n",
              "       'Alocado em Fase anterior'], dtype=object)"
            ]
          },
          "execution_count": 128,
          "metadata": {},
          "output_type": "execute_result"
        }
      ],
      "source": [
        "passos_magicos_22['REC_AVA_1_2022'].unique()"
      ]
    },
    {
      "cell_type": "code",
      "execution_count": 129,
      "metadata": {
        "colab": {
          "base_uri": "https://localhost:8080/"
        },
        "id": "KtAi58U4B0t_",
        "outputId": "c61119e3-d591-4090-b33f-3ba4c790018f"
      },
      "outputs": [
        {
          "data": {
            "text/plain": [
              "array(['Mantido na Fase atual', 'Promovido de Fase + Bolsa',\n",
              "       'Promovido de Fase', 'Não avaliado', 'Mantido na Fase + Bolsa'],\n",
              "      dtype=object)"
            ]
          },
          "execution_count": 129,
          "metadata": {},
          "output_type": "execute_result"
        }
      ],
      "source": [
        "passos_magicos_22['REC_AVA_2_2022'].unique()"
      ]
    },
    {
      "cell_type": "code",
      "execution_count": 130,
      "metadata": {
        "colab": {
          "base_uri": "https://localhost:8080/"
        },
        "id": "iYyENZlfB0nF",
        "outputId": "8e8f0780-1816-41a2-e518-13d080c335ee"
      },
      "outputs": [
        {
          "data": {
            "text/plain": [
              "array(['Mantido na Fase atual', 'Mantido na Fase + Bolsa',\n",
              "       'Promovido de Fase', nan, 'Promovido de Fase + Bolsa',\n",
              "       'Alocado em Fase anterior'], dtype=object)"
            ]
          },
          "execution_count": 130,
          "metadata": {},
          "output_type": "execute_result"
        }
      ],
      "source": [
        "passos_magicos_22['REC_AVA_3_2022'].unique()"
      ]
    },
    {
      "cell_type": "code",
      "execution_count": 131,
      "metadata": {
        "colab": {
          "base_uri": "https://localhost:8080/"
        },
        "id": "yG5LoJ0WITeY",
        "outputId": "b7cef087-670a-453d-a2f7-97c9b130473e"
      },
      "outputs": [
        {
          "data": {
            "text/plain": [
              "array(['Promovido de Fase + Bolsa', 'Promovido de Fase',\n",
              "       'Alocado em Fase anterior', nan, 'Mantido na Fase atual',\n",
              "       'Mantido na Fase + Bolsa'], dtype=object)"
            ]
          },
          "execution_count": 131,
          "metadata": {},
          "output_type": "execute_result"
        }
      ],
      "source": [
        "passos_magicos_22['REC_AVA_4_2022'].unique()"
      ]
    },
    {
      "cell_type": "code",
      "execution_count": 132,
      "metadata": {
        "colab": {
          "base_uri": "https://localhost:8080/"
        },
        "id": "RoUObxxOITbS",
        "outputId": "3b788511-3686-4450-8e75-02b50f8b3542"
      },
      "outputs": [
        {
          "data": {
            "text/plain": [
              "array(['Fase 4 (9º ano)', 'Fase 7 (3º EM)', 'Fase 6 (2º EM)',\n",
              "       'Fase 1 (4º ano)', 'Fase 3 (7º e 8º ano)', 'Fase 2 (5º e 6º ano)',\n",
              "       'ALFA  (2º e 3º ano)', 'Fase 8 (Universitários)', 'Fase 5 (1º EM)'],\n",
              "      dtype=object)"
            ]
          },
          "execution_count": 132,
          "metadata": {},
          "output_type": "execute_result"
        }
      ],
      "source": [
        "passos_magicos_22['NIVEL_IDEAL_2022'].unique()"
      ]
    },
    {
      "cell_type": "code",
      "execution_count": 133,
      "metadata": {
        "id": "hwDZvSWIITYK"
      },
      "outputs": [],
      "source": [
        "drop_columns = ['DESTAQUE_IEG_2022', 'DESTAQUE_IDA_2022', 'DESTAQUE_IPV_2022', 'REC_AVA_1_2022',\n",
        "                'REC_AVA_2_2022', 'REC_AVA_3_2022', 'REC_AVA_4_2022', 'NIVEL_IDEAL_2022', 'NOME', 'FASE_2022', 'TURMA_2022', 'ANO_INGRESSO_2022']"
      ]
    },
    {
      "cell_type": "code",
      "execution_count": 134,
      "metadata": {
        "id": "0TlP1ObLITT_"
      },
      "outputs": [],
      "source": [
        "passos_magicos_22.drop(columns=drop_columns, inplace=True)\n"
      ]
    },
    {
      "cell_type": "code",
      "execution_count": 135,
      "metadata": {
        "id": "RzrPzhti7NjE"
      },
      "outputs": [],
      "source": [
        "drop_columns = ['INDE_2022', 'CG_2022', 'CF_2022', 'CT_2022', 'QTD_AVAL_2022',\n",
        "                'BOLSISTA_2022', 'PONTO_VIRADA_2022', 'IPV_2022', 'IAN_2022', 'PEDRA_2022']"
      ]
    },
    {
      "cell_type": "code",
      "execution_count": 136,
      "metadata": {
        "id": "UaY911LX7NdB"
      },
      "outputs": [],
      "source": [
        "passos_magicos_22.drop(columns=drop_columns, inplace=True)\n"
      ]
    },
    {
      "cell_type": "code",
      "execution_count": 137,
      "metadata": {
        "colab": {
          "base_uri": "https://localhost:8080/",
          "height": 206
        },
        "id": "qJEC3hH2K2xb",
        "outputId": "e193f161-a015-422d-e125-9326db845b37"
      },
      "outputs": [
        {
          "data": {
            "text/html": [
              "<div>\n",
              "<style scoped>\n",
              "    .dataframe tbody tr th:only-of-type {\n",
              "        vertical-align: middle;\n",
              "    }\n",
              "\n",
              "    .dataframe tbody tr th {\n",
              "        vertical-align: top;\n",
              "    }\n",
              "\n",
              "    .dataframe thead th {\n",
              "        text-align: right;\n",
              "    }\n",
              "</style>\n",
              "<table border=\"1\" class=\"dataframe\">\n",
              "  <thead>\n",
              "    <tr style=\"text-align: right;\">\n",
              "      <th></th>\n",
              "      <th>IAA_2022</th>\n",
              "      <th>IEG_2022</th>\n",
              "      <th>IPS_2022</th>\n",
              "      <th>IDA_2022</th>\n",
              "      <th>NOTA_PORT_2022</th>\n",
              "      <th>NOTA_MAT_2022</th>\n",
              "      <th>NOTA_ING_2022</th>\n",
              "      <th>IPP_2022</th>\n",
              "      <th>INDICADO_BOLSA_2022</th>\n",
              "    </tr>\n",
              "  </thead>\n",
              "  <tbody>\n",
              "    <tr>\n",
              "      <th>258</th>\n",
              "      <td>9.16668</td>\n",
              "      <td>9.691651</td>\n",
              "      <td>5.625</td>\n",
              "      <td>6.677778</td>\n",
              "      <td>8.333333</td>\n",
              "      <td>5.666667</td>\n",
              "      <td>6.033333</td>\n",
              "      <td>7.96875</td>\n",
              "      <td>0</td>\n",
              "    </tr>\n",
              "    <tr>\n",
              "      <th>259</th>\n",
              "      <td>8.33334</td>\n",
              "      <td>6.612103</td>\n",
              "      <td>5.625</td>\n",
              "      <td>7.200000</td>\n",
              "      <td>8.666667</td>\n",
              "      <td>5.666667</td>\n",
              "      <td>7.266667</td>\n",
              "      <td>7.81250</td>\n",
              "      <td>0</td>\n",
              "    </tr>\n",
              "    <tr>\n",
              "      <th>260</th>\n",
              "      <td>9.16668</td>\n",
              "      <td>4.077797</td>\n",
              "      <td>7.500</td>\n",
              "      <td>2.777778</td>\n",
              "      <td>4.000000</td>\n",
              "      <td>3.166667</td>\n",
              "      <td>1.166667</td>\n",
              "      <td>6.25000</td>\n",
              "      <td>0</td>\n",
              "    </tr>\n",
              "    <tr>\n",
              "      <th>261</th>\n",
              "      <td>8.50002</td>\n",
              "      <td>8.518519</td>\n",
              "      <td>8.125</td>\n",
              "      <td>8.816667</td>\n",
              "      <td>8.500000</td>\n",
              "      <td>9.133333</td>\n",
              "      <td>NaN</td>\n",
              "      <td>5.00000</td>\n",
              "      <td>0</td>\n",
              "    </tr>\n",
              "    <tr>\n",
              "      <th>262</th>\n",
              "      <td>9.16668</td>\n",
              "      <td>8.836817</td>\n",
              "      <td>7.500</td>\n",
              "      <td>7.555556</td>\n",
              "      <td>6.666667</td>\n",
              "      <td>7.500000</td>\n",
              "      <td>8.500000</td>\n",
              "      <td>8.28125</td>\n",
              "      <td>1</td>\n",
              "    </tr>\n",
              "  </tbody>\n",
              "</table>\n",
              "</div>"
            ],
            "text/plain": [
              "     IAA_2022  IEG_2022  IPS_2022  IDA_2022  NOTA_PORT_2022  NOTA_MAT_2022  \\\n",
              "258   9.16668  9.691651     5.625  6.677778        8.333333       5.666667   \n",
              "259   8.33334  6.612103     5.625  7.200000        8.666667       5.666667   \n",
              "260   9.16668  4.077797     7.500  2.777778        4.000000       3.166667   \n",
              "261   8.50002  8.518519     8.125  8.816667        8.500000       9.133333   \n",
              "262   9.16668  8.836817     7.500  7.555556        6.666667       7.500000   \n",
              "\n",
              "     NOTA_ING_2022  IPP_2022  INDICADO_BOLSA_2022  \n",
              "258       6.033333   7.96875                    0  \n",
              "259       7.266667   7.81250                    0  \n",
              "260       1.166667   6.25000                    0  \n",
              "261            NaN   5.00000                    0  \n",
              "262       8.500000   8.28125                    1  "
            ]
          },
          "execution_count": 137,
          "metadata": {},
          "output_type": "execute_result"
        }
      ],
      "source": [
        "passos_magicos_22.head()"
      ]
    },
    {
      "cell_type": "markdown",
      "metadata": {
        "id": "LUbvhd9lW-wM"
      },
      "source": [
        "https://github.com/eugeniogdiniz/Comparacao_Metodos_Analise_Credito/blob/main/Notebook_TCC.ipynb\n",
        "\n",
        "\n",
        "o link acima é do xboost"
      ]
    },
    {
      "cell_type": "markdown",
      "metadata": {
        "id": "oVEIMLwPtL7v"
      },
      "source": [
        "Ideia:\n",
        "\n",
        "Fazer um modelo de regressão para prever quais são as caracteristicas que um aluno da passos magicos precisa ter para ganhar uma bolsa na faculdade"
      ]
    },
    {
      "cell_type": "code",
      "execution_count": 138,
      "metadata": {},
      "outputs": [
        {
          "name": "stdout",
          "output_type": "stream",
          "text": [
            "Requirement already satisfied: seaborn in c:\\users\\eugênioleninegueiros\\appdata\\local\\programs\\python\\python311\\lib\\site-packages (0.13.2)\n",
            "Requirement already satisfied: numpy!=1.24.0,>=1.20 in c:\\users\\eugênioleninegueiros\\appdata\\local\\programs\\python\\python311\\lib\\site-packages (from seaborn) (1.26.4)\n",
            "Requirement already satisfied: pandas>=1.2 in c:\\users\\eugênioleninegueiros\\appdata\\local\\programs\\python\\python311\\lib\\site-packages (from seaborn) (2.2.2)\n",
            "Requirement already satisfied: matplotlib!=3.6.1,>=3.4 in c:\\users\\eugênioleninegueiros\\appdata\\local\\programs\\python\\python311\\lib\\site-packages (from seaborn) (3.8.4)\n",
            "Requirement already satisfied: contourpy>=1.0.1 in c:\\users\\eugênioleninegueiros\\appdata\\local\\programs\\python\\python311\\lib\\site-packages (from matplotlib!=3.6.1,>=3.4->seaborn) (1.2.1)\n",
            "Requirement already satisfied: cycler>=0.10 in c:\\users\\eugênioleninegueiros\\appdata\\local\\programs\\python\\python311\\lib\\site-packages (from matplotlib!=3.6.1,>=3.4->seaborn) (0.12.1)\n",
            "Requirement already satisfied: fonttools>=4.22.0 in c:\\users\\eugênioleninegueiros\\appdata\\local\\programs\\python\\python311\\lib\\site-packages (from matplotlib!=3.6.1,>=3.4->seaborn) (4.51.0)\n",
            "Requirement already satisfied: kiwisolver>=1.3.1 in c:\\users\\eugênioleninegueiros\\appdata\\local\\programs\\python\\python311\\lib\\site-packages (from matplotlib!=3.6.1,>=3.4->seaborn) (1.4.5)\n",
            "Requirement already satisfied: packaging>=20.0 in c:\\users\\eugênioleninegueiros\\appdata\\roaming\\python\\python311\\site-packages (from matplotlib!=3.6.1,>=3.4->seaborn) (24.0)\n",
            "Requirement already satisfied: pillow>=8 in c:\\users\\eugênioleninegueiros\\appdata\\local\\programs\\python\\python311\\lib\\site-packages (from matplotlib!=3.6.1,>=3.4->seaborn) (10.3.0)\n",
            "Requirement already satisfied: pyparsing>=2.3.1 in c:\\users\\eugênioleninegueiros\\appdata\\local\\programs\\python\\python311\\lib\\site-packages (from matplotlib!=3.6.1,>=3.4->seaborn) (3.1.2)\n",
            "Requirement already satisfied: python-dateutil>=2.7 in c:\\users\\eugênioleninegueiros\\appdata\\roaming\\python\\python311\\site-packages (from matplotlib!=3.6.1,>=3.4->seaborn) (2.9.0.post0)\n",
            "Requirement already satisfied: pytz>=2020.1 in c:\\users\\eugênioleninegueiros\\appdata\\local\\programs\\python\\python311\\lib\\site-packages (from pandas>=1.2->seaborn) (2024.1)\n",
            "Requirement already satisfied: tzdata>=2022.7 in c:\\users\\eugênioleninegueiros\\appdata\\local\\programs\\python\\python311\\lib\\site-packages (from pandas>=1.2->seaborn) (2024.1)\n",
            "Requirement already satisfied: six>=1.5 in c:\\users\\eugênioleninegueiros\\appdata\\roaming\\python\\python311\\site-packages (from python-dateutil>=2.7->matplotlib!=3.6.1,>=3.4->seaborn) (1.16.0)\n",
            "Note: you may need to restart the kernel to use updated packages.\n"
          ]
        },
        {
          "name": "stderr",
          "output_type": "stream",
          "text": [
            "\n",
            "[notice] A new release of pip is available: 24.0 -> 24.2\n",
            "[notice] To update, run: python.exe -m pip install --upgrade pip\n"
          ]
        }
      ],
      "source": [
        "pip install seaborn"
      ]
    },
    {
      "cell_type": "code",
      "execution_count": 139,
      "metadata": {
        "id": "68uSlV7WZPrS"
      },
      "outputs": [],
      "source": [
        "import seaborn as sns\n"
      ]
    },
    {
      "cell_type": "code",
      "execution_count": 140,
      "metadata": {
        "colab": {
          "base_uri": "https://localhost:8080/",
          "height": 1000
        },
        "id": "pLYgejnOhQAB",
        "outputId": "951fb309-8c03-43c4-ea17-c3211e19adfd"
      },
      "outputs": [
        {
          "data": {
            "text/plain": [
              "<Axes: >"
            ]
          },
          "execution_count": 140,
          "metadata": {},
          "output_type": "execute_result"
        },
        {
          "data": {
            "image/png": "[encoded data removed]",
            "text/plain": [
              "<Figure size 1500x1500 with 2 Axes>"
            ]
          },
          "metadata": {},
          "output_type": "display_data"
        }
      ],
      "source": [
        "# Correlação das variáveis numéricas\n",
        "plt.figure(figsize= (15, 15))\n",
        "\n",
        "sns.heatmap(passos_magicos_22.corr(), square=True, annot=True, linewidth=0.5)"
      ]
    },
    {
      "cell_type": "code",
      "execution_count": 141,
      "metadata": {
        "colab": {
          "base_uri": "https://localhost:8080/",
          "height": 366
        },
        "id": "gzyK9zckZAY-",
        "outputId": "8074f0ae-65a9-4333-a6b0-fa56cdaa637b"
      },
      "outputs": [
        {
          "data": {
            "text/plain": [
              "IAA_2022                 0\n",
              "IEG_2022                 0\n",
              "IPS_2022                 0\n",
              "IDA_2022                 0\n",
              "NOTA_PORT_2022           2\n",
              "NOTA_MAT_2022            2\n",
              "NOTA_ING_2022          577\n",
              "IPP_2022                 0\n",
              "INDICADO_BOLSA_2022      0\n",
              "dtype: int64"
            ]
          },
          "execution_count": 141,
          "metadata": {},
          "output_type": "execute_result"
        }
      ],
      "source": [
        "passos_magicos_22.isnull().sum()"
      ]
    },
    {
      "cell_type": "code",
      "execution_count": 142,
      "metadata": {
        "colab": {
          "base_uri": "https://localhost:8080/",
          "height": 484
        },
        "id": "RplKetkzZAWa",
        "outputId": "c532c5cd-24f3-4136-a60c-d5cabb8245fd"
      },
      "outputs": [
        {
          "data": {
            "text/plain": [
              "<Axes: title={'center': 'VARIAVEL TARGET'}, xlabel='INDICADO_BOLSA_2022'>"
            ]
          },
          "execution_count": 142,
          "metadata": {},
          "output_type": "execute_result"
        },
        {
          "data": {
            "image/png": "[encoded data removed]",
            "text/plain": [
              "<Figure size 640x480 with 1 Axes>"
            ]
          },
          "metadata": {},
          "output_type": "display_data"
        }
      ],
      "source": [
        "# Analise Exploratória\n",
        "passos_magicos_22[\"INDICADO_BOLSA_2022\"].value_counts().plot.bar(title='VARIAVEL TARGET')"
      ]
    },
    {
      "cell_type": "code",
      "execution_count": 143,
      "metadata": {
        "colab": {
          "base_uri": "https://localhost:8080/",
          "height": 422
        },
        "id": "aDS5L_bbZATt",
        "outputId": "d1286e0d-ef43-40e7-fe61-b78531dcddd0"
      },
      "outputs": [
        {
          "data": {
            "text/plain": [
              "<Axes: title={'center': 'INDICADOS vs BOLSISTAS'}, xlabel='INDICADO_BOLSA_2022'>"
            ]
          },
          "execution_count": 143,
          "metadata": {},
          "output_type": "execute_result"
        },
        {
          "data": {
            "image/png": "[encoded data removed]",
            "text/plain": [
              "<Figure size 400x400 with 1 Axes>"
            ]
          },
          "metadata": {},
          "output_type": "display_data"
        }
      ],
      "source": [
        "#Relação BOLSISTA vs INDICACAO\n",
        "\n",
        "JOB=pd.crosstab(passos_magicos_22['INDICADO_BOLSA_2022'],df['INDICADO_BOLSA_2022'])\n",
        "JOB.div(JOB.sum(1).astype(float), axis=0).plot(kind=\"bar\", stacked=True, title='INDICADOS vs BOLSISTAS', figsize=(4,4))"
      ]
    },
    {
      "cell_type": "code",
      "execution_count": 144,
      "metadata": {
        "id": "7kNXlPegZAOR"
      },
      "outputs": [],
      "source": [
        "# prompt: quantidade de registros onde INDICADO_BOLSA_2022 é true e bolsista_2022 é false\n"
      ]
    },
    {
      "cell_type": "code",
      "execution_count": 145,
      "metadata": {
        "colab": {
          "base_uri": "https://localhost:8080/",
          "height": 422
        },
        "id": "M0jKhu30K2nA",
        "outputId": "d5221b6d-b7cb-41c1-dcb2-ef41e13efdf4"
      },
      "outputs": [
        {
          "data": {
            "text/plain": [
              "<Axes: title={'center': 'INDICADOS vs BOLSISTAS'}, xlabel='INDICADO_BOLSA_2022'>"
            ]
          },
          "execution_count": 145,
          "metadata": {},
          "output_type": "execute_result"
        },
        {
          "data": {
            "image/png": "[encoded data removed]",
            "text/plain": [
              "<Figure size 400x400 with 1 Axes>"
            ]
          },
          "metadata": {},
          "output_type": "display_data"
        }
      ],
      "source": [
        "#Relação BOLSISTA vs pedra\n",
        "\n",
        "JOB=pd.crosstab(passos_magicos_22['INDICADO_BOLSA_2022'],df['INDICADO_BOLSA_2022'])\n",
        "JOB.div(JOB.sum(1).astype(float), axis=0).plot(kind=\"bar\", stacked=True, title='INDICADOS vs BOLSISTAS', figsize=(4,4))"
      ]
    },
    {
      "cell_type": "code",
      "execution_count": 146,
      "metadata": {
        "colab": {
          "base_uri": "https://localhost:8080/",
          "height": 414
        },
        "id": "RDvxGKkXDQgx",
        "outputId": "91017893-7ac4-445c-b759-1d5d2640e38f"
      },
      "outputs": [
        {
          "data": {
            "text/plain": [
              "<Axes: title={'center': 'PEDRA vs INDICADO_BOLSA_2022'}, xlabel='INDICADO_BOLSA_2022'>"
            ]
          },
          "execution_count": 146,
          "metadata": {},
          "output_type": "execute_result"
        },
        {
          "data": {
            "image/png": "[encoded data removed]",
            "text/plain": [
              "<Figure size 1400x400 with 1 Axes>"
            ]
          },
          "metadata": {},
          "output_type": "display_data"
        }
      ],
      "source": [
        "# prompt: gerar grafico de barras comparando pedra_2022 com indicado bolsa_2022\n",
        "\n",
        "JOB=pd.crosstab(passos_magicos_22['INDICADO_BOLSA_2022'],df['PEDRA_2022'])\n",
        "JOB.div(JOB.sum(1).astype(float), axis=0).plot(kind=\"bar\", stacked=True, title='PEDRA vs INDICADO_BOLSA_2022', figsize=(14,4))\n"
      ]
    },
    {
      "cell_type": "code",
      "execution_count": 147,
      "metadata": {
        "colab": {
          "base_uri": "https://localhost:8080/",
          "height": 567
        },
        "id": "hY9EyVKaLZWc",
        "outputId": "d09812e5-63ab-443b-d73f-aa0b4191a0f6"
      },
      "outputs": [
        {
          "data": {
            "image/png": "[encoded data removed]",
            "text/plain": [
              "<Figure size 1000x600 with 1 Axes>"
            ]
          },
          "metadata": {},
          "output_type": "display_data"
        }
      ],
      "source": [
        "# prompt: grafico de violino comparando pedra e bolsistas\n",
        "\n",
        "plt.figure(figsize=(10, 6))\n",
        "sns.violinplot(x='PEDRA_2022', y='INDICADO_BOLSA_2022', data=df_22, inner='points')\n",
        "plt.title('Comparação entre Pedra e Bolsistas (Gráfico de Violino)')\n",
        "plt.xlabel('Pedra')\n",
        "plt.ylabel('INDICADO_BOLSA_2022 (1 = Sim, 0 = Não)')\n",
        "plt.show()\n"
      ]
    },
    {
      "cell_type": "code",
      "execution_count": 148,
      "metadata": {
        "colab": {
          "base_uri": "https://localhost:8080/"
        },
        "id": "emAW2QdXSIIU",
        "outputId": "5d8d4ce0-41bc-46f4-be96-4a4e3ea6e5ce"
      },
      "outputs": [
        {
          "name": "stdout",
          "output_type": "stream",
          "text": [
            "Acurácia do modelo: 0.8245614035087719\n",
            "\n",
            "Relatório de Classificação:\n",
            "               precision    recall  f1-score   support\n",
            "\n",
            "           0       0.81      0.97      0.89        40\n",
            "           1       0.89      0.47      0.62        17\n",
            "\n",
            "    accuracy                           0.82        57\n",
            "   macro avg       0.85      0.72      0.75        57\n",
            "weighted avg       0.84      0.82      0.81        57\n",
            "\n"
          ]
        }
      ],
      "source": [
        "# prompt: FAZER UM MODELO DO TIPO RANDOM FOREST PARA A BASE PASSOSMAGICOS_2022 USANDO A VARIAVEL BOLSISTA_2022 COMO TARGET, REMOVENDO AS LINHAS NAN\n",
        "\n",
        "from sklearn.model_selection import train_test_split\n",
        "from sklearn.ensemble import RandomForestClassifier\n",
        "from sklearn.metrics import accuracy_score, classification_report\n",
        "\n",
        "# Remove as linhas com valores NaN\n",
        "passos_magicos_22_clean = passos_magicos_22.dropna()\n",
        "\n",
        "# Define as variáveis preditoras (X) e a variável alvo (y)\n",
        "X = passos_magicos_22_clean.drop('INDICADO_BOLSA_2022', axis=1)\n",
        "y = passos_magicos_22_clean['INDICADO_BOLSA_2022']\n",
        "\n",
        "# Divide os dados em conjuntos de treinamento e teste\n",
        "X_train, X_test, y_train, y_test =  train_test_split(X, y, test_size=0.20, random_state=42)\n",
        "\n",
        "# Cria o modelo Random Forest\n",
        "model = RandomForestClassifier(random_state=42)\n",
        "\n",
        "# Treina o modelo\n",
        "model.fit(X_train, y_train)\n",
        "\n",
        "# Faz previsões no conjunto de teste\n",
        "y_pred = model.predict(X_test)\n",
        "\n",
        "# Avalia o modelo\n",
        "accuracy = accuracy_score(y_test, y_pred)\n",
        "report = classification_report(y_test, y_pred)\n",
        "\n",
        "print(\"Acurácia do modelo:\", accuracy)\n",
        "print(\"\\nRelatório de Classificação:\\n\", report)\n"
      ]
    },
    {
      "cell_type": "code",
      "execution_count": 149,
      "metadata": {
        "colab": {
          "base_uri": "https://localhost:8080/"
        },
        "id": "XkR5BWjiNNFZ",
        "outputId": "00ba70d9-daa0-4c3f-d607-575da6674030"
      },
      "outputs": [
        {
          "name": "stdout",
          "output_type": "stream",
          "text": [
            "Acurácia do modelo: 0.8421052631578947\n",
            "\n",
            "Relatório de Classificação:\n",
            "               precision    recall  f1-score   support\n",
            "\n",
            "           0       0.84      0.95      0.89        40\n",
            "           1       0.83      0.59      0.69        17\n",
            "\n",
            "    accuracy                           0.84        57\n",
            "   macro avg       0.84      0.77      0.79        57\n",
            "weighted avg       0.84      0.84      0.83        57\n",
            "\n"
          ]
        }
      ],
      "source": [
        "# prompt:  FAZER UM MODELO DO TIPO xgboost PARA A BASE PASSOSMAGICOS_2022 USANDO A VARIAVEL BOLSISTA_2022 COMO TARGET, REMOVENDO AS LINHAS NAN\n",
        "\n",
        "import xgboost as xgb\n",
        "from sklearn.model_selection import train_test_split\n",
        "from sklearn.metrics import accuracy_score, classification_report\n",
        "\n",
        "# Remove as linhas com valores NaN\n",
        "passos_magicos_22_clean = passos_magicos_22.dropna()\n",
        "\n",
        "# Define as variáveis preditoras (X) e a variável alvo (y)\n",
        "X = passos_magicos_22_clean.drop('INDICADO_BOLSA_2022', axis=1)\n",
        "y = passos_magicos_22_clean['INDICADO_BOLSA_2022']\n",
        "\n",
        "# Divide os dados em conjuntos de treinamento e teste\n",
        "X_train, X_test, y_train, y_test = train_test_split(X, y, test_size=0.2, random_state=42)\n",
        "\n",
        "# Cria o modelo XGBoost\n",
        "model = xgb.XGBClassifier(random_state=42)\n",
        "\n",
        "# Treina o modelo\n",
        "model.fit(X_train, y_train)\n",
        "\n",
        "# Faz previsões no conjunto de teste\n",
        "y_pred = model.predict(X_test)\n",
        "\n",
        "# Avalia o modelo\n",
        "accuracy = accuracy_score(y_test, y_pred)\n",
        "report = classification_report(y_test, y_pred)\n",
        "\n",
        "print(\"Acurácia do modelo:\", accuracy)\n",
        "print(\"\\nRelatório de Classificação:\\n\", report)\n"
      ]
    },
    {
      "cell_type": "code",
      "execution_count": 150,
      "metadata": {
        "colab": {
          "base_uri": "https://localhost:8080/"
        },
        "id": "VTHaBjJeNM_O",
        "outputId": "3b21ffe4-1ede-4b86-d493-adb49ab48d0b"
      },
      "outputs": [
        {
          "name": "stdout",
          "output_type": "stream",
          "text": [
            "Modelo: Random Forest\n",
            "Melhores parâmetros: {'max_depth': 10, 'n_estimators': 50}\n",
            "Acurácia: 0.8070175438596491\n",
            "\n",
            "Modelo: Gradient Boosting\n",
            "Melhores parâmetros: {'learning_rate': 1, 'n_estimators': 50}\n",
            "Acurácia: 0.8245614035087719\n",
            "\n",
            "Modelo: Logistic Regression\n",
            "Melhores parâmetros: {'C': 0.1}\n",
            "Acurácia: 0.6842105263157895\n",
            "\n",
            "Modelo: SVM\n",
            "Melhores parâmetros: {'C': 0.1, 'kernel': 'linear'}\n",
            "Acurácia: 0.7017543859649122\n",
            "\n",
            "Melhor Modelo: GradientBoostingClassifier\n",
            "Acurácia do Melhor Modelo: 0.8245614035087719\n",
            "\n",
            "Relatório de Classificação do Melhor Modelo:\n",
            "               precision    recall  f1-score   support\n",
            "\n",
            "           0       0.88      0.88      0.88        40\n",
            "           1       0.71      0.71      0.71        17\n",
            "\n",
            "    accuracy                           0.82        57\n",
            "   macro avg       0.79      0.79      0.79        57\n",
            "weighted avg       0.82      0.82      0.82        57\n",
            "\n"
          ]
        }
      ],
      "source": [
        "# prompt: fazer o melhor modelo PARA A BASE PASSOSMAGICOS_2022 USANDO A VARIAVEL INDICADO_BOLSA_2022 COMO TARGET, REMOVENDO AS LINHAS NAN, e com um exemplo de chamada para testar o modelo\n",
        "\n",
        "from sklearn.model_selection import GridSearchCV\n",
        "from sklearn.ensemble import RandomForestClassifier, GradientBoostingClassifier\n",
        "from sklearn.linear_model import LogisticRegression\n",
        "from sklearn.svm import SVC\n",
        "from sklearn.metrics import accuracy_score, classification_report\n",
        "\n",
        "# Remove as linhas com valores NaN\n",
        "passos_magicos_22_clean = passos_magicos_22.dropna()\n",
        "\n",
        "# Define as variáveis preditoras (X) e a variável alvo (y)\n",
        "X = passos_magicos_22_clean.drop('INDICADO_BOLSA_2022', axis=1)\n",
        "y = passos_magicos_22_clean['INDICADO_BOLSA_2022']\n",
        "\n",
        "# Divide os dados em conjuntos de treinamento e teste\n",
        "X_train, X_test, y_train, y_test = train_test_split(X, y, test_size=0.2, random_state=42)\n",
        "\n",
        "# Define os modelos e seus hiperparâmetros a serem testados\n",
        "models = {\n",
        "    'Random Forest': (RandomForestClassifier(), {'n_estimators': [50, 100, 200], 'max_depth': [None, 5, 10]}),\n",
        "    'Gradient Boosting': (GradientBoostingClassifier(), {'n_estimators': [50, 100, 200], 'learning_rate': [0.01, 0.1, 1]}),\n",
        "    'Logistic Regression': (LogisticRegression(), {'C': [0.1, 1, 10]}),\n",
        "    'SVM': (SVC(), {'C': [0.1, 1, 10], 'kernel': ['linear', 'rbf']})\n",
        "}\n",
        "\n",
        "# Realiza a busca em grade para cada modelo\n",
        "best_model = None\n",
        "best_accuracy = 0\n",
        "\n",
        "for model_name, (model, param_grid) in models.items():\n",
        "    grid_search = GridSearchCV(model, param_grid, cv=5, scoring='accuracy')\n",
        "    grid_search.fit(X_train, y_train)\n",
        "\n",
        "    y_pred = grid_search.predict(X_test)\n",
        "    accuracy = accuracy_score(y_test, y_pred)\n",
        "\n",
        "    print(f\"Modelo: {model_name}\")\n",
        "    print(f\"Melhores parâmetros: {grid_search.best_params_}\")\n",
        "    print(f\"Acurácia: {accuracy}\\n\")\n",
        "\n",
        "    if accuracy > best_accuracy:\n",
        "        best_accuracy = accuracy\n",
        "        best_model = grid_search.best_estimator_\n",
        "\n",
        "# Avalia o melhor modelo\n",
        "y_pred_best = best_model.predict(X_test)\n",
        "report = classification_report(y_test, y_pred_best)\n",
        "\n",
        "print(\"Melhor Modelo:\", best_model.__class__.__name__)\n",
        "print(\"Acurácia do Melhor Modelo:\", best_accuracy)\n",
        "print(\"\\nRelatório de Classificação do Melhor Modelo:\\n\", report)\n"
      ]
    },
    {
      "cell_type": "code",
      "execution_count": 151,
      "metadata": {
        "id": "ClFuTaxQNM0X"
      },
      "outputs": [],
      "source": [
        "# prompt: mostrar exemplos de como colocar o modelo em producao\n",
        "\n",
        "# **1. Deploy como uma API REST usando Flask ou FastAPI:**\n",
        "\n",
        "# **Flask:**\n",
        "\n"
      ]
    },
    {
      "cell_type": "code",
      "execution_count": 152,
      "metadata": {
        "colab": {
          "base_uri": "https://localhost:8080/",
          "height": 211
        },
        "id": "aGKUR27qi218",
        "outputId": "6e2cb6ca-f75e-4e5d-e9b0-0567e6e1dcae"
      },
      "outputs": [
        {
          "name": "stdout",
          "output_type": "stream",
          "text": [
            "Modelo: Random Forest\n",
            "Melhores parâmetros: {'max_depth': 5, 'n_estimators': 50}\n",
            "Acurácia: 0.7368421052631579\n",
            "\n",
            "Modelo: Gradient Boosting\n",
            "Melhores parâmetros: {'learning_rate': 1, 'n_estimators': 50}\n",
            "Acurácia: 0.8245614035087719\n",
            "\n",
            "Modelo: Logistic Regression\n",
            "Melhores parâmetros: {'C': 0.1}\n",
            "Acurácia: 0.6842105263157895\n",
            "\n",
            "Modelo: SVM\n",
            "Melhores parâmetros: {'C': 0.1, 'kernel': 'linear'}\n",
            "Acurácia: 0.7017543859649122\n",
            "\n",
            "Melhor Modelo: GradientBoostingClassifier\n",
            "Acurácia do Melhor Modelo: 0.8245614035087719\n",
            "\n",
            "Relatório de Classificação do Melhor Modelo:\n",
            "               precision    recall  f1-score   support\n",
            "\n",
            "           0       0.88      0.88      0.88        40\n",
            "           1       0.71      0.71      0.71        17\n",
            "\n",
            "    accuracy                           0.82        57\n",
            "   macro avg       0.79      0.79      0.79        57\n",
            "weighted avg       0.82      0.82      0.82        57\n",
            "\n",
            "Exemplo de entrada: [[7.91667    6.25       6.875      6.11111111 4.66666667 6.66666667\n",
            "  7.         7.5       ]]\n",
            "Previsão do modelo: [0]\n"
          ]
        },
        {
          "name": "stderr",
          "output_type": "stream",
          "text": [
            "c:\\Users\\EugênioLenineGueiros\\AppData\\Local\\Programs\\Python\\Python311\\Lib\\site-packages\\sklearn\\base.py:493: UserWarning: X does not have valid feature names, but GradientBoostingClassifier was fitted with feature names\n",
            "  warnings.warn(\n"
          ]
        }
      ],
      "source": [
        "# prompt: fazer o melhor modelo PARA A BASE PASSOSMAGICOS_2022 USANDO A VARIAVEL INDICADO_BOLSA_2022 COMO TARGET, REMOVENDO AS LINHAS NAN, e com um exemplo de chamada para testar o modelo\n",
        "\n",
        "# Remove as linhas com valores NaN\n",
        "passos_magicos_22_clean = passos_magicos_22.dropna()\n",
        "\n",
        "# Define as variáveis preditoras (X) e a variável alvo (y)\n",
        "X = passos_magicos_22_clean.drop('INDICADO_BOLSA_2022', axis=1)\n",
        "y = passos_magicos_22_clean['INDICADO_BOLSA_2022']\n",
        "\n",
        "# Divide os dados em conjuntos de treinamento e teste\n",
        "X_train, X_test, y_train, y_test = train_test_split(X, y, test_size=0.2, random_state=42)\n",
        "\n",
        "# Define os modelos e seus hiperparâmetros a serem testados\n",
        "models = {\n",
        "    'Random Forest': (RandomForestClassifier(), {'n_estimators': [50, 100, 200], 'max_depth': [None, 5, 10]}),\n",
        "    'Gradient Boosting': (GradientBoostingClassifier(), {'n_estimators': [50, 100, 200], 'learning_rate': [0.01, 0.1, 1]}),\n",
        "    'Logistic Regression': (LogisticRegression(), {'C': [0.1, 1, 10]}),\n",
        "    'SVM': (SVC(), {'C': [0.1, 1, 10], 'kernel': ['linear', 'rbf']})\n",
        "}\n",
        "\n",
        "# Realiza a busca em grade para cada modelo\n",
        "best_model = None\n",
        "best_accuracy = 0\n",
        "\n",
        "for model_name, (model, param_grid) in models.items():\n",
        "    grid_search = GridSearchCV(model, param_grid, cv=5, scoring='accuracy')\n",
        "    grid_search.fit(X_train, y_train)\n",
        "\n",
        "    y_pred = grid_search.predict(X_test)\n",
        "    accuracy = accuracy_score(y_test, y_pred)\n",
        "\n",
        "    print(f\"Modelo: {model_name}\")\n",
        "    print(f\"Melhores parâmetros: {grid_search.best_params_}\")\n",
        "    print(f\"Acurácia: {accuracy}\\n\")\n",
        "\n",
        "    if accuracy > best_accuracy:\n",
        "        best_accuracy = accuracy\n",
        "        best_model = grid_search.best_estimator_\n",
        "\n",
        "# Avalia o melhor modelo\n",
        "y_pred_best = best_model.predict(X_test)\n",
        "report = classification_report(y_test, y_pred_best)\n",
        "\n",
        "print(\"Melhor Modelo:\", best_model.__class__.__name__)\n",
        "print(\"Acurácia do Melhor Modelo:\", best_accuracy)\n",
        "print(\"\\nRelatório de Classificação do Melhor Modelo:\\n\", report)\n",
        "\n",
        "# Exemplo de chamada para testar o modelo (usando um exemplo do conjunto de teste)\n",
        "example_index = 0\n",
        "example = X_test.iloc[example_index].values.reshape(1, -1)\n",
        "prediction = best_model.predict(example)\n",
        "\n",
        "print(f\"Exemplo de entrada: {example}\")\n",
        "print(f\"Previsão do modelo: {prediction}\")\n"
      ]
    },
    {
      "cell_type": "code",
      "execution_count": 153,
      "metadata": {},
      "outputs": [
        {
          "name": "stdout",
          "output_type": "stream",
          "text": [
            "Modelo: Random Forest\n",
            "Melhores parâmetros: {}\n",
            "Acurácia: 0.7543859649122807\n",
            "\n",
            "Modelo: Gradient Boosting\n",
            "Melhores parâmetros: {}\n",
            "Acurácia: 0.8245614035087719\n",
            "\n",
            "Modelo: Logistic Regression\n",
            "Melhores parâmetros: {}\n",
            "Acurácia: 0.6842105263157895\n",
            "\n",
            "Modelo: SVM\n",
            "Melhores parâmetros: {}\n",
            "Acurácia: 0.7017543859649122\n",
            "\n",
            "Melhor Modelo: GradientBoostingClassifier\n",
            "Acurácia do Melhor Modelo: 0.8245614035087719\n",
            "\n",
            "Relatório de Classificação do Melhor Modelo:\n",
            "               precision    recall  f1-score   support\n",
            "\n",
            "           0       0.88      0.88      0.88        40\n",
            "           1       0.71      0.71      0.71        17\n",
            "\n",
            "    accuracy                           0.82        57\n",
            "   macro avg       0.79      0.79      0.79        57\n",
            "weighted avg       0.82      0.82      0.82        57\n",
            "\n",
            "Exemplo de entrada: [[7.91667    6.25       6.875      6.11111111 4.66666667 6.66666667\n",
            "  7.         7.5       ]]\n",
            "Previsão do modelo: [0]\n"
          ]
        },
        {
          "name": "stderr",
          "output_type": "stream",
          "text": [
            "c:\\Users\\EugênioLenineGueiros\\AppData\\Local\\Programs\\Python\\Python311\\Lib\\site-packages\\sklearn\\base.py:493: UserWarning: X does not have valid feature names, but GradientBoostingClassifier was fitted with feature names\n",
            "  warnings.warn(\n"
          ]
        }
      ],
      "source": [
        "import pandas as pd\n",
        "from sklearn.model_selection import train_test_split, GridSearchCV\n",
        "from sklearn.ensemble import RandomForestClassifier, GradientBoostingClassifier\n",
        "from sklearn.linear_model import LogisticRegression\n",
        "from sklearn.svm import SVC\n",
        "from sklearn.metrics import accuracy_score, classification_report\n",
        "\n",
        "# Remove as linhas com valores NaN\n",
        "passos_magicos_22_clean = passos_magicos_22.dropna()\n",
        "\n",
        "# Define as variáveis preditoras (X) e a variável alvo (y)\n",
        "X = passos_magicos_22_clean.drop('INDICADO_BOLSA_2022', axis=1)\n",
        "y = passos_magicos_22_clean['INDICADO_BOLSA_2022']\n",
        "\n",
        "# Divide os dados em conjuntos de treinamento e teste\n",
        "X_train, X_test, y_train, y_test = train_test_split(X, y, test_size=0.2, random_state=42)\n",
        "\n",
        "# Define os modelos e seus melhores hiperparâmetros encontrados\n",
        "models = {\n",
        "    'Random Forest': (RandomForestClassifier(max_depth=5, n_estimators=200), {}),\n",
        "    'Gradient Boosting': (GradientBoostingClassifier(learning_rate=1, n_estimators=50), {}),\n",
        "    'Logistic Regression': (LogisticRegression(C=0.1), {}),\n",
        "    'SVM': (SVC(C=0.1, kernel='linear'), {})\n",
        "}\n",
        "\n",
        "# Avalia os modelos\n",
        "best_model = None\n",
        "best_accuracy = 0\n",
        "\n",
        "for model_name, (model, param_grid) in models.items():\n",
        "    model.fit(X_train, y_train)\n",
        "\n",
        "    y_pred = model.predict(X_test)\n",
        "    accuracy = accuracy_score(y_test, y_pred)\n",
        "\n",
        "    print(f\"Modelo: {model_name}\")\n",
        "    print(f\"Melhores parâmetros: {param_grid}\")\n",
        "    print(f\"Acurácia: {accuracy}\\n\")\n",
        "\n",
        "    if accuracy > best_accuracy:\n",
        "        best_accuracy = accuracy\n",
        "        best_model = model\n",
        "\n",
        "# Avalia o melhor modelo\n",
        "y_pred_best = best_model.predict(X_test)\n",
        "report = classification_report(y_test, y_pred_best)\n",
        "\n",
        "print(\"Melhor Modelo:\", best_model.__class__.__name__)\n",
        "print(\"Acurácia do Melhor Modelo:\", best_accuracy)\n",
        "print(\"\\nRelatório de Classificação do Melhor Modelo:\\n\", report)\n",
        "\n",
        "# Exemplo de chamada para testar o modelo (usando um exemplo do conjunto de teste)\n",
        "example_index = 0\n",
        "example = X_test.iloc[example_index].values.reshape(1, -1)\n",
        "prediction = best_model.predict(example)\n",
        "\n",
        "print(f\"Exemplo de entrada: {example}\")\n",
        "print(f\"Previsão do modelo: {prediction}\")\n"
      ]
    },
    {
      "cell_type": "code",
      "execution_count": 154,
      "metadata": {
        "id": "e46AakF1kDBI"
      },
      "outputs": [],
      "source": [
        "#example = (7.91667, 6.25, 6.875, 6.11111111, 4.66666667, 6.66666667, 7.0, 7.5)\n",
        "example = (9, 8, 7, 6, 6, 7, 8, 8)\n",
        "\n",
        "example_reshaped = np.array(example).reshape(1, -1)"
      ]
    },
    {
      "cell_type": "markdown",
      "metadata": {
        "id": "-LK-LUB3lXB-"
      },
      "source": []
    },
    {
      "cell_type": "code",
      "execution_count": 155,
      "metadata": {
        "colab": {
          "base_uri": "https://localhost:8080/"
        },
        "id": "Yk2Nz0xbkXkA",
        "outputId": "a6d25885-37c6-44e9-b53f-8433e5e1e399"
      },
      "outputs": [
        {
          "name": "stdout",
          "output_type": "stream",
          "text": [
            "Previsão do modelo: [1]\n"
          ]
        },
        {
          "name": "stderr",
          "output_type": "stream",
          "text": [
            "c:\\Users\\EugênioLenineGueiros\\AppData\\Local\\Programs\\Python\\Python311\\Lib\\site-packages\\sklearn\\base.py:493: UserWarning: X does not have valid feature names, but GradientBoostingClassifier was fitted with feature names\n",
            "  warnings.warn(\n"
          ]
        }
      ],
      "source": [
        "prediction = best_model.predict(example_reshaped)\n",
        "print(f\"Previsão do modelo: {prediction}\")"
      ]
    },
    {
      "cell_type": "code",
      "execution_count": 156,
      "metadata": {
        "colab": {
          "base_uri": "https://localhost:8080/"
        },
        "id": "K_wDAT4ll-5o",
        "outputId": "0efd2924-6d6b-426a-8972-89fcfeca6c7e"
      },
      "outputs": [
        {
          "name": "stdout",
          "output_type": "stream",
          "text": [
            "Exemplo de entrada: [[9.16668    7.81593407 6.875      6.72222222 5.66666667 6.5\n",
            "  8.         8.28125   ]]\n",
            "Previsão do modelo: [1]\n"
          ]
        },
        {
          "name": "stderr",
          "output_type": "stream",
          "text": [
            "c:\\Users\\EugênioLenineGueiros\\AppData\\Local\\Programs\\Python\\Python311\\Lib\\site-packages\\sklearn\\base.py:493: UserWarning: X does not have valid feature names, but GradientBoostingClassifier was fitted with feature names\n",
            "  warnings.warn(\n"
          ]
        }
      ],
      "source": [
        "example_index = 11\n",
        "example = X_test.iloc[example_index].values.reshape(1, -1)\n",
        "prediction = best_model.predict(example)\n",
        "\n",
        "print(f\"Exemplo de entrada: {example}\")\n",
        "print(f\"Previsão do modelo: {prediction}\")\n",
        "\n",
        "\n"
      ]
    },
    {
      "cell_type": "code",
      "execution_count": 157,
      "metadata": {
        "colab": {
          "base_uri": "https://localhost:8080/"
        },
        "id": "-8cgEKdRstV4",
        "outputId": "f33e8afa-5586-4114-b619-95a431b8c33a"
      },
      "outputs": [
        {
          "data": {
            "text/plain": [
              "['best_model.pkl']"
            ]
          },
          "execution_count": 157,
          "metadata": {},
          "output_type": "execute_result"
        }
      ],
      "source": [
        "import joblib\n",
        "\n",
        "# Salva o modelo em um arquivo\n",
        "joblib.dump(best_model, 'best_model.pkl')"
      ]
    },
    {
      "cell_type": "code",
      "execution_count": 158,
      "metadata": {
        "id": "tNG-DfWR0vcZ"
      },
      "outputs": [],
      "source": [
        "!pip freeze > requirements.txt\n"
      ]
    },
    {
      "cell_type": "code",
      "execution_count": 159,
      "metadata": {},
      "outputs": [
        {
          "data": {
            "text/plain": [
              "Index(['IAA_2022', 'IEG_2022', 'IPS_2022', 'IDA_2022', 'NOTA_PORT_2022',\n",
              "       'NOTA_MAT_2022', 'NOTA_ING_2022', 'IPP_2022', 'INDICADO_BOLSA_2022'],\n",
              "      dtype='object')"
            ]
          },
          "execution_count": 159,
          "metadata": {},
          "output_type": "execute_result"
        }
      ],
      "source": [
        "passos_magicos_22_clean.columns"
      ]
    }
  ],
  "metadata": {
    "colab": {
      "provenance": []
    },
    "kernelspec": {
      "display_name": "Python 3",
      "name": "python3"
    },
    "language_info": {
      "codemirror_mode": {
        "name": "ipython",
        "version": 3
      },
      "file_extension": ".py",
      "mimetype": "text/x-python",
      "name": "python",
      "nbconvert_exporter": "python",
      "pygments_lexer": "ipython3",
      "version": "3.11.9"
    }
  },
  "nbformat": 4,
  "nbformat_minor": 0
}
